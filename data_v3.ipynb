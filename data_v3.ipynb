{
  "nbformat": 4,
  "nbformat_minor": 0,
  "metadata": {
    "colab": {
      "name": "data_v3.ipynb",
      "provenance": [],
      "authorship_tag": "ABX9TyM+fSErzR104GPV9ucy0yde",
      "include_colab_link": true
    },
    "kernelspec": {
      "name": "python3",
      "display_name": "Python 3"
    },
    "language_info": {
      "name": "python"
    }
  },
  "cells": [
    {
      "cell_type": "markdown",
      "metadata": {
        "id": "view-in-github",
        "colab_type": "text"
      },
      "source": [
        "<a href=\"https://colab.research.google.com/github/kruttikajain/ACL2019-Reducing-Gender-Bias-in-Word-Level-Language-Models-Using-A-Gender-Equalizing-Loss-Function/blob/master/data_v3.ipynb\" target=\"_parent\"><img src=\"https://colab.research.google.com/assets/colab-badge.svg\" alt=\"Open In Colab\"/></a>"
      ]
    },
    {
      "cell_type": "code",
      "metadata": {
        "id": "kkfttI0Ynodc"
      },
      "source": [
        "#pip install import_ipynb\n"
      ],
      "execution_count": 18,
      "outputs": []
    },
    {
      "cell_type": "code",
      "metadata": {
        "colab": {
          "base_uri": "https://localhost:8080/"
        },
        "id": "UTn94Da9s0Xb",
        "outputId": "01098777-7d7f-4f1d-cece-b1261b749e24"
      },
      "source": [
        "from google.colab import drive\n",
        "drive.mount('/content/gdrive')"
      ],
      "execution_count": 19,
      "outputs": [
        {
          "output_type": "stream",
          "text": [
            "Drive already mounted at /content/gdrive; to attempt to forcibly remount, call drive.mount(\"/content/gdrive\", force_remount=True).\n"
          ],
          "name": "stdout"
        }
      ]
    },
    {
      "cell_type": "code",
      "metadata": {
        "colab": {
          "base_uri": "https://localhost:8080/"
        },
        "id": "QV1xDTA5s8s_",
        "outputId": "0424755d-469d-4f34-aed1-0a6ec7607ebe"
      },
      "source": [
        "%cd /content/gdrive/My Drive/Colab Notebooks/MSProject"
      ],
      "execution_count": 20,
      "outputs": [
        {
          "output_type": "stream",
          "text": [
            "/content/gdrive/My Drive/Colab Notebooks/MSProject\n"
          ],
          "name": "stdout"
        }
      ]
    },
    {
      "cell_type": "code",
      "metadata": {
        "id": "7NErFracnm_C"
      },
      "source": [
        "import import_ipynb\n",
        "import preprocess"
      ],
      "execution_count": 21,
      "outputs": []
    },
    {
      "cell_type": "code",
      "metadata": {
        "id": "oaLxRabfmZ_I"
      },
      "source": [
        "#import sys\n",
        "#sys.path.append('/content/gdrive/MyDrive/Colab Notebooks/MSProject/preprocess.ipynb')"
      ],
      "execution_count": 22,
      "outputs": []
    },
    {
      "cell_type": "code",
      "metadata": {
        "id": "9SVn0muONOtN"
      },
      "source": [
        "# coding: utf-8\n",
        "\n",
        "# In[5]:\n",
        "\n",
        "#import import_ipynb\n",
        "import os\n",
        "import torch\n",
        "#import preprocess\n",
        "import itertools\n",
        "\n",
        "\n",
        "# In[2]:\n",
        "\n",
        "\n",
        "class Dictionary(object):\n",
        "    def __init__(self):\n",
        "        self.word2idx = {}\n",
        "        self.idx2word = []\n",
        "\n",
        "    def add_word(self, word):\n",
        "        if word not in self.word2idx:\n",
        "            self.idx2word.append(word)\n",
        "            self.word2idx[word] = len(self.idx2word) - 1 \n",
        "        return self.word2idx[word]\n",
        "\n",
        "    def __len__(self):\n",
        "        return len(self.idx2word)\n",
        "\n",
        "\n",
        "# In[7]:\n",
        "\n",
        "# use pretrained embedding to adjust the vocab's idx\n",
        "class Corpus(object):\n",
        "    def __init__(self, path, vocab, words2idx, idx_train, idx_val, idx_test):\n",
        "        self.words2idx = words2idx\n",
        "        self.idx2words = vocab\n",
        "        self.train = self.tokenize(path, vocab, idx_train)\n",
        "        self.valid = self.tokenize(path, vocab, idx_val)\n",
        "        self.test = self.tokenize(path, vocab, idx_test)\n",
        "        \n",
        "    def tokenize(self, path, vocab, idx):\n",
        "        tokens = 0\n",
        "        for ind in idx['id'].values:\n",
        "            article = preprocess.read_preprocessed_file(os.path.join(path, ind), vocab)\n",
        "            words = list(itertools.chain.from_iterable(article))  #already add '<eos>' on the end of preprocessed data,+ ['<eos>']\n",
        "            tokens += len(words)\n",
        "\n",
        "            # for word in words:\n",
        "            #     self.dictionary.add_word(word)\n",
        "        \n",
        "        ids = torch.LongTensor(tokens)\n",
        "        token = 0\n",
        "        for ind in idx['id'].values:\n",
        "            article = preprocess.read_preprocessed_file(os.path.join(path, ind), vocab)\n",
        "            words = list(itertools.chain.from_iterable(article)) #+ ['<eos>']\n",
        "            for word in words:\n",
        "                ids[token] = self.words2idx[word] #\n",
        "                token += 1\n",
        "                \n",
        "        return ids"
      ],
      "execution_count": 23,
      "outputs": []
    }
  ]
}