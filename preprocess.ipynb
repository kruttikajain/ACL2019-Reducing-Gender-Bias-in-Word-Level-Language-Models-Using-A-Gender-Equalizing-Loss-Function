{
  "nbformat": 4,
  "nbformat_minor": 0,
  "metadata": {
    "colab": {
      "name": "preprocess.ipynb",
      "provenance": [],
      "authorship_tag": "ABX9TyNi5cXkGEMCwTvi5KUcn5l9",
      "include_colab_link": true
    },
    "kernelspec": {
      "name": "python3",
      "display_name": "Python 3"
    },
    "language_info": {
      "name": "python"
    }
  },
  "cells": [
    {
      "cell_type": "markdown",
      "metadata": {
        "id": "view-in-github",
        "colab_type": "text"
      },
      "source": [
        "<a href=\"https://colab.research.google.com/github/kruttikajain/ACL2019-Reducing-Gender-Bias-in-Word-Level-Language-Models-Using-A-Gender-Equalizing-Loss-Function/blob/master/preprocess.ipynb\" target=\"_parent\"><img src=\"https://colab.research.google.com/assets/colab-badge.svg\" alt=\"Open In Colab\"/></a>"
      ]
    },
    {
      "cell_type": "code",
      "metadata": {
        "id": "VnG8KG_1Ejgz"
      },
      "source": [
        "# coding: utf-8\n",
        "import os\n",
        "import multiprocessing as mp\n",
        "import re\n",
        "import ctypes\n",
        "import argparse\n",
        "import struct\n",
        "import pickle\n",
        "import gzip\n",
        "import spacy\n",
        "from unidecode import unidecode\n",
        "from io import BytesIO\n",
        "from keras.preprocessing.text import Tokenizer\n",
        "import gc \n"
      ],
      "execution_count": 5,
      "outputs": []
    },
    {
      "cell_type": "code",
      "metadata": {
        "id": "K0BL2--YE25T"
      },
      "source": [
        "en = spacy.load('en')"
      ],
      "execution_count": 6,
      "outputs": []
    },
    {
      "cell_type": "code",
      "metadata": {
        "id": "Z4tkEQshFGrT"
      },
      "source": [
        "def is_valid_token(w):\n",
        "    \"\"\"\n",
        "    Returns True if a token is valid\n",
        "    \"\"\"\n",
        "    return bool(re.search('[a-zA-Z0-9,.!?<>\\']+', w))\n",
        "    #    !\"#$%&\\'()*+,-./:;<=>?@[\\\\]^_`{|}~)"
      ],
      "execution_count": 7,
      "outputs": []
    },
    {
      "cell_type": "code",
      "metadata": {
        "id": "Pol8L8QXFGtk"
      },
      "source": [
        "def transform_token(w):\n",
        "    \"\"\"\n",
        "    Transforms a token by making lowercase, and for numeric tokens replaces\n",
        "    digits with placeholders\n",
        "    \"\"\"\n",
        "    #替换 非 A-Za-z <>$. - ‘，包括space\n",
        "    return re.sub(r'[^A-Za-z,.!?\\'<>]', '', \n",
        "            re.sub(r'\\d+', '<NUM>',\n",
        "                unidecode(w).lower()))"
      ],
      "execution_count": 8,
      "outputs": []
    },
    {
      "cell_type": "code",
      "metadata": {
        "id": "Qi3OZk8VFGwR"
      },
      "source": [
        "# def is_valid_token(w):\n",
        "#     \"\"\"\n",
        "#     Returns True if a token is valid\n",
        "#     \"\"\"\n",
        "#     return bool(re.search('[a-zA-Z0-9,.!?]+', w))\n",
        "\n",
        "\n",
        "# def transform_token(w):\n",
        "#     \"\"\"\n",
        "#     Transforms a token by making lowercase, and for numeric tokens replaces\n",
        "#     digits with placeholders\n",
        "#     \"\"\"\n",
        "#     return re.sub(r'[.\\-\\']+$', '',\n",
        "#       re.sub(r'[.\\-\\']+', '',\n",
        "#         re.sub(r'[^A-Za-z<>$.\\-\\']', '',\n",
        "#             re.sub(r'\\d+', '<NUM>',\n",
        "#                 unidecode(w).lower()))))"
      ],
      "execution_count": 9,
      "outputs": []
    },
    {
      "cell_type": "code",
      "metadata": {
        "id": "mgGccuaLFGym"
      },
      "source": [
        ""
      ],
      "execution_count": 9,
      "outputs": []
    },
    {
      "cell_type": "code",
      "metadata": {
        "id": "x5ax8C06FG1R"
      },
      "source": [
        ""
      ],
      "execution_count": null,
      "outputs": []
    },
    {
      "cell_type": "code",
      "metadata": {
        "id": "NMxKunxgFG3w"
      },
      "source": [
        ""
      ],
      "execution_count": null,
      "outputs": []
    },
    {
      "cell_type": "code",
      "metadata": {
        "id": "YcmHBn58FG56"
      },
      "source": [
        ""
      ],
      "execution_count": null,
      "outputs": []
    },
    {
      "cell_type": "code",
      "metadata": {
        "id": "8Lsegs_VFG8M"
      },
      "source": [
        ""
      ],
      "execution_count": null,
      "outputs": []
    },
    {
      "cell_type": "code",
      "metadata": {
        "id": "G1CLaioqFG-U"
      },
      "source": [
        ""
      ],
      "execution_count": null,
      "outputs": []
    },
    {
      "cell_type": "code",
      "metadata": {
        "id": "nHGmyUk4FHAm"
      },
      "source": [
        ""
      ],
      "execution_count": null,
      "outputs": []
    }
  ]
}