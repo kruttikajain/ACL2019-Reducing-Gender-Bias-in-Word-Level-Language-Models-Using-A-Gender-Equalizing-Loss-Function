{
  "nbformat": 4,
  "nbformat_minor": 0,
  "metadata": {
    "kernelspec": {
      "display_name": "Python 3",
      "language": "python",
      "name": "python3"
    },
    "language_info": {
      "codemirror_mode": {
        "name": "ipython",
        "version": 3
      },
      "file_extension": ".py",
      "mimetype": "text/x-python",
      "name": "python",
      "nbconvert_exporter": "python",
      "pygments_lexer": "ipython3",
      "version": "3.6.8"
    },
    "colab": {
      "name": "cda_swap_dailymail.ipynb",
      "provenance": []
    }
  },
  "cells": [
    {
      "cell_type": "code",
      "metadata": {
        "collapsed": true,
        "id": "kRQe9mjRxBwe"
      },
      "source": [
        "import os\n",
        "from io import open\n",
        "#bbb"
      ],
      "execution_count": 2,
      "outputs": []
    },
    {
      "cell_type": "code",
      "metadata": {
        "collapsed": true,
        "id": "WWWaX2KAxBwi"
      },
      "source": [
        "# load doc into memory\n",
        "def load_doc(filename):\n",
        "    # open the file as read only\n",
        "    file = open(filename, 'r', encoding='utf-8-sig')\n",
        "    # read all text\n",
        "    text = file.read()\n",
        "    # close the file\n",
        "    file.close()\n",
        "    return text"
      ],
      "execution_count": null,
      "outputs": []
    },
    {
      "cell_type": "code",
      "metadata": {
        "collapsed": true,
        "id": "qgSm7CWBxBwi"
      },
      "source": [
        "def save_list(lines, filename):\n",
        "    data = '\\n'.join(lines)\n",
        "    file = open(filename, 'w',encoding='utf-8-sig')\n",
        "    file.write(data)\n",
        "    file.close()"
      ],
      "execution_count": null,
      "outputs": []
    },
    {
      "cell_type": "code",
      "metadata": {
        "collapsed": true,
        "id": "HkSQrxl-xBwi"
      },
      "source": [
        "def getUpper(word):\n",
        "    #print(word)\n",
        "    word = word[0].upper() + word[1:]\n",
        "    return word"
      ],
      "execution_count": null,
      "outputs": []
    },
    {
      "cell_type": "code",
      "metadata": {
        "collapsed": true,
        "id": "kvtHuSx5xBwi"
      },
      "source": [
        "femaleFile = './gender_words/female_word_file.txt'\n",
        "maleFile = './gender_words/male_word_file.txt'\n",
        "female_word_list = [w for w in load_doc(femaleFile).split('\\n') if len(w) > 0]\n",
        "male_word_list = [w for w in load_doc(maleFile).split('\\n') if len(w) > 0]"
      ],
      "execution_count": null,
      "outputs": []
    },
    {
      "cell_type": "code",
      "metadata": {
        "collapsed": true,
        "id": "2-glGzkTxBwi"
      },
      "source": [
        "genderKeys = female_word_list + male_word_list\n",
        "genderValues = male_word_list + female_word_list\n",
        "genderKeys += [getUpper(w) for w in genderKeys]\n",
        "genderValues += [getUpper(w) for w in genderValues]\n",
        "genderDict = dict(zip(genderKeys,genderValues))"
      ],
      "execution_count": null,
      "outputs": []
    },
    {
      "cell_type": "code",
      "metadata": {
        "collapsed": true,
        "id": "Ef2hsv8HxBwi"
      },
      "source": [
        "def flip(word):\n",
        "    if word in genderDict:\n",
        "        return genderDict[word]\n",
        "    else:\n",
        "        return word"
      ],
      "execution_count": null,
      "outputs": []
    },
    {
      "cell_type": "code",
      "metadata": {
        "id": "BWhSH3I9xBwj",
        "outputId": "78c397fe-3fb7-49cc-d2fb-b444c33c6aa9"
      },
      "source": [
        "'pregnant'in genderDict\n",
        "#genderDict['pregnant']\n",
        "flip('man')"
      ],
      "execution_count": null,
      "outputs": [
        {
          "output_type": "execute_result",
          "data": {
            "text/plain": [
              "'woman'"
            ]
          },
          "metadata": {
            "tags": []
          },
          "execution_count": 8
        }
      ]
    },
    {
      "cell_type": "code",
      "metadata": {
        "collapsed": true,
        "id": "MWdxxUftxBwj"
      },
      "source": [
        "def flipList(wordList):\n",
        "    return [flip(w) for w in wordList]"
      ],
      "execution_count": null,
      "outputs": []
    },
    {
      "cell_type": "code",
      "metadata": {
        "id": "zveRP6Q4xBwj",
        "outputId": "149c8364-89f6-4e49-aa63-59b4a0e7c15f"
      },
      "source": [
        "flipList('She wakes up the next morning heavily pregnant .'.split())"
      ],
      "execution_count": null,
      "outputs": [
        {
          "output_type": "execute_result",
          "data": {
            "text/plain": [
              "['He', 'wakes', 'up', 'the', 'next', 'morning', 'heavily', 'pregnant', '.']"
            ]
          },
          "metadata": {
            "tags": []
          },
          "execution_count": 11
        }
      ]
    },
    {
      "cell_type": "code",
      "metadata": {
        "collapsed": true,
        "id": "Mcd_hFWcxBwj"
      },
      "source": [
        "import glob\n",
        "\n",
        "input_dir = glob.glob(\"./data/sample_stories/*.story\")\n",
        "output_dir = './data/sample_stories_cda'\n",
        "if not os.path.isdir(output_dir):\n",
        "    os.makedirs(output_dir)\n",
        "i=1\n",
        "for f in input_dir:\n",
        "    with open(f, \"r\") as infile:\n",
        "        infile = infile.read()\n",
        "        sentences = []\n",
        "        for line in infile.split('\\n'):    \n",
        "            sentences.append(line.split())\n",
        "            \n",
        "        flippedLines = [flipList(l) for l in sentences]\n",
        "        totalLines = [' '.join(l) for l in flippedLines]\n",
        "            \n",
        "    outfile = os.path.join(output_dir,f.split('/')[-1][:-5] + str(i)+ '.txt') \n",
        "    \n",
        "    save_list(totalLines, outfile)\n",
        "    i+=1"
      ],
      "execution_count": null,
      "outputs": []
    }
  ]
}