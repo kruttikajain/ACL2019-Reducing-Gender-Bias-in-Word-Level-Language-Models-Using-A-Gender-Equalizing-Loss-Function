{
  "nbformat": 4,
  "nbformat_minor": 0,
  "metadata": {
    "colab": {
      "name": "data_v3.ipynb",
      "provenance": [],
      "authorship_tag": "ABX9TyM/zRWhQUvZ3UKEIlks4ErL",
      "include_colab_link": true
    },
    "kernelspec": {
      "name": "python3",
      "display_name": "Python 3"
    },
    "language_info": {
      "name": "python"
    }
  },
  "cells": [
    {
      "cell_type": "markdown",
      "metadata": {
        "id": "view-in-github",
        "colab_type": "text"
      },
      "source": [
        "<a href=\"https://colab.research.google.com/github/kruttikajain/ACL2019-Reducing-Gender-Bias-in-Word-Level-Language-Models-Using-A-Gender-Equalizing-Loss-Function/blob/master/data_v3.ipynb\" target=\"_parent\"><img src=\"https://colab.research.google.com/assets/colab-badge.svg\" alt=\"Open In Colab\"/></a>"
      ]
    },
    {
      "cell_type": "code",
      "metadata": {
        "colab": {
          "base_uri": "https://localhost:8080/",
          "height": 368
        },
        "id": "9SVn0muONOtN",
        "outputId": "3c6135d8-73fd-448f-ffe1-e0936a5a437f"
      },
      "source": [
        "# coding: utf-8\n",
        "\n",
        "# In[5]:\n",
        "\n",
        "\n",
        "import os\n",
        "import torch\n",
        "import preprocess\n",
        "import itertools\n",
        "\n",
        "\n",
        "# In[2]:\n",
        "\n",
        "\n",
        "class Dictionary(object):\n",
        "    def __init__(self):\n",
        "        self.word2idx = {}\n",
        "        self.idx2word = []\n",
        "\n",
        "    def add_word(self, word):\n",
        "        if word not in self.word2idx:\n",
        "            self.idx2word.append(word)\n",
        "            self.word2idx[word] = len(self.idx2word) - 1 \n",
        "        return self.word2idx[word]\n",
        "\n",
        "    def __len__(self):\n",
        "        return len(self.idx2word)\n",
        "\n",
        "\n",
        "# In[7]:\n",
        "\n",
        "# use pretrained embedding to adjust the vocab's idx\n",
        "class Corpus(object):\n",
        "    def __init__(self, path, vocab, words2idx, idx_train, idx_val, idx_test):\n",
        "        self.words2idx = words2idx\n",
        "        self.idx2words = vocab\n",
        "        self.train = self.tokenize(path, vocab, idx_train)\n",
        "        self.valid = self.tokenize(path, vocab, idx_val)\n",
        "        self.test = self.tokenize(path, vocab, idx_test)\n",
        "        \n",
        "    def tokenize(self, path, vocab, idx):\n",
        "        tokens = 0\n",
        "        for ind in idx['id'].values:\n",
        "            article = preprocess.read_preprocessed_file(os.path.join(path, ind), vocab)\n",
        "            words = list(itertools.chain.from_iterable(article))  #already add '<eos>' on the end of preprocessed data,+ ['<eos>']\n",
        "            tokens += len(words)\n",
        "\n",
        "            # for word in words:\n",
        "            #     self.dictionary.add_word(word)\n",
        "        \n",
        "        ids = torch.LongTensor(tokens)\n",
        "        token = 0\n",
        "        for ind in idx['id'].values:\n",
        "            article = preprocess.read_preprocessed_file(os.path.join(path, ind), vocab)\n",
        "            words = list(itertools.chain.from_iterable(article)) #+ ['<eos>']\n",
        "            for word in words:\n",
        "                ids[token] = self.words2idx[word] #\n",
        "                token += 1\n",
        "                \n",
        "        return ids"
      ],
      "execution_count": 1,
      "outputs": [
        {
          "output_type": "error",
          "ename": "ModuleNotFoundError",
          "evalue": "ignored",
          "traceback": [
            "\u001b[0;31m---------------------------------------------------------------------------\u001b[0m",
            "\u001b[0;31mModuleNotFoundError\u001b[0m                       Traceback (most recent call last)",
            "\u001b[0;32m<ipython-input-1-d6226dd60509>\u001b[0m in \u001b[0;36m<module>\u001b[0;34m()\u001b[0m\n\u001b[1;32m      6\u001b[0m \u001b[0;32mimport\u001b[0m \u001b[0mos\u001b[0m\u001b[0;34m\u001b[0m\u001b[0;34m\u001b[0m\u001b[0m\n\u001b[1;32m      7\u001b[0m \u001b[0;32mimport\u001b[0m \u001b[0mtorch\u001b[0m\u001b[0;34m\u001b[0m\u001b[0;34m\u001b[0m\u001b[0m\n\u001b[0;32m----> 8\u001b[0;31m \u001b[0;32mimport\u001b[0m \u001b[0mpreprocess\u001b[0m\u001b[0;34m\u001b[0m\u001b[0;34m\u001b[0m\u001b[0m\n\u001b[0m\u001b[1;32m      9\u001b[0m \u001b[0;32mimport\u001b[0m \u001b[0mitertools\u001b[0m\u001b[0;34m\u001b[0m\u001b[0;34m\u001b[0m\u001b[0m\n\u001b[1;32m     10\u001b[0m \u001b[0;34m\u001b[0m\u001b[0m\n",
            "\u001b[0;31mModuleNotFoundError\u001b[0m: No module named 'preprocess'",
            "",
            "\u001b[0;31m---------------------------------------------------------------------------\u001b[0;32m\nNOTE: If your import is failing due to a missing package, you can\nmanually install dependencies using either !pip or !apt.\n\nTo view examples of installing some common dependencies, click the\n\"Open Examples\" button below.\n\u001b[0;31m---------------------------------------------------------------------------\u001b[0m\n"
          ]
        }
      ]
    }
  ]
}